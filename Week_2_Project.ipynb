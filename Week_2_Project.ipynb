{
  "nbformat": 4,
  "nbformat_minor": 0,
  "metadata": {
    "colab": {
      "provenance": []
    },
    "kernelspec": {
      "name": "python3",
      "display_name": "Python 3"
    },
    "language_info": {
      "name": "python"
    }
  },
  "cells": [
    {
      "cell_type": "code",
      "execution_count": 1,
      "metadata": {
        "colab": {
          "base_uri": "https://localhost:8080/"
        },
        "id": "l3Gw_EkyBb5a",
        "outputId": "2ba0578d-3c46-4bfb-8c91-69b6aebfc128"
      },
      "outputs": [
        {
          "output_type": "stream",
          "name": "stdout",
          "text": [
            "    Name  Age      City  Salary\n",
            "0  Alice   25  New York   40000\n",
            "1    Bob   27    London   50000\n",
            "2  Alice   30     Paris   35000\n",
            "3  Daisy   28     Paris   45000\n",
            "4    Eva   27     Paris   60000\n",
            "✅ Data saved to sample_data.csv\n"
          ]
        }
      ],
      "source": [
        "import pandas as pd\n",
        "data = {\n",
        "    \"Name\": [\"Alice\", \"Bob\", \"Alice\", \"Daisy\",\"Eva\"],\n",
        "    \"Age\": [25,27,30,28,27],\n",
        "    \"City\": [\"New York\", \"London\", \"Paris\", \"Paris\",\"Paris\"],\n",
        "    \"Salary\": [40000, 50000, 35000, 45000,60000]}\n",
        "df = pd.DataFrame(data)\n",
        "print(df)\n",
        "df.to_csv(\"mini project 2.csv\", index=False)\n",
        "\n",
        "print(\"✅ Data saved to sample_data.csv\")"
      ]
    }
  ]
}